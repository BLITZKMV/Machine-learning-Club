{
 "cells": [
  {
   "cell_type": "code",
   "execution_count": 1,
   "metadata": {},
   "outputs": [],
   "source": [
    "import pandas as pd\n",
    "import numpy as np"
   ]
  },
  {
   "cell_type": "code",
   "execution_count": 2,
   "metadata": {},
   "outputs": [],
   "source": [
    "import matplotlib.pyplot as plt"
   ]
  },
  {
   "cell_type": "code",
   "execution_count": 3,
   "metadata": {},
   "outputs": [],
   "source": [
    "import seaborn as sns"
   ]
  },
  {
   "cell_type": "code",
   "execution_count": 4,
   "metadata": {},
   "outputs": [],
   "source": [
    "%matplotlib inline"
   ]
  },
  {
   "cell_type": "code",
   "execution_count": 5,
   "metadata": {},
   "outputs": [],
   "source": [
    "df=pd.read_csv('train.csv')"
   ]
  },
  {
   "cell_type": "code",
   "execution_count": 6,
   "metadata": {},
   "outputs": [
    {
     "data": {
      "text/html": [
       "<div>\n",
       "<style scoped>\n",
       "    .dataframe tbody tr th:only-of-type {\n",
       "        vertical-align: middle;\n",
       "    }\n",
       "\n",
       "    .dataframe tbody tr th {\n",
       "        vertical-align: top;\n",
       "    }\n",
       "\n",
       "    .dataframe thead th {\n",
       "        text-align: right;\n",
       "    }\n",
       "</style>\n",
       "<table border=\"1\" class=\"dataframe\">\n",
       "  <thead>\n",
       "    <tr style=\"text-align: right;\">\n",
       "      <th></th>\n",
       "      <th>x</th>\n",
       "      <th>y</th>\n",
       "    </tr>\n",
       "  </thead>\n",
       "  <tbody>\n",
       "    <tr>\n",
       "      <td>0</td>\n",
       "      <td>24</td>\n",
       "      <td>21.549452</td>\n",
       "    </tr>\n",
       "    <tr>\n",
       "      <td>1</td>\n",
       "      <td>50</td>\n",
       "      <td>47.464463</td>\n",
       "    </tr>\n",
       "    <tr>\n",
       "      <td>2</td>\n",
       "      <td>15</td>\n",
       "      <td>17.218656</td>\n",
       "    </tr>\n",
       "    <tr>\n",
       "      <td>3</td>\n",
       "      <td>38</td>\n",
       "      <td>36.586398</td>\n",
       "    </tr>\n",
       "    <tr>\n",
       "      <td>4</td>\n",
       "      <td>87</td>\n",
       "      <td>87.288984</td>\n",
       "    </tr>\n",
       "  </tbody>\n",
       "</table>\n",
       "</div>"
      ],
      "text/plain": [
       "    x          y\n",
       "0  24  21.549452\n",
       "1  50  47.464463\n",
       "2  15  17.218656\n",
       "3  38  36.586398\n",
       "4  87  87.288984"
      ]
     },
     "execution_count": 6,
     "metadata": {},
     "output_type": "execute_result"
    }
   ],
   "source": [
    "df.head()"
   ]
  },
  {
   "cell_type": "code",
   "execution_count": 7,
   "metadata": {},
   "outputs": [
    {
     "name": "stdout",
     "output_type": "stream",
     "text": [
      "<class 'pandas.core.frame.DataFrame'>\n",
      "RangeIndex: 700 entries, 0 to 699\n",
      "Data columns (total 2 columns):\n",
      "x    700 non-null int64\n",
      "y    700 non-null float64\n",
      "dtypes: float64(1), int64(1)\n",
      "memory usage: 11.0 KB\n"
     ]
    }
   ],
   "source": [
    "df.info()"
   ]
  },
  {
   "cell_type": "code",
   "execution_count": 8,
   "metadata": {},
   "outputs": [
    {
     "data": {
      "text/html": [
       "<div>\n",
       "<style scoped>\n",
       "    .dataframe tbody tr th:only-of-type {\n",
       "        vertical-align: middle;\n",
       "    }\n",
       "\n",
       "    .dataframe tbody tr th {\n",
       "        vertical-align: top;\n",
       "    }\n",
       "\n",
       "    .dataframe thead th {\n",
       "        text-align: right;\n",
       "    }\n",
       "</style>\n",
       "<table border=\"1\" class=\"dataframe\">\n",
       "  <thead>\n",
       "    <tr style=\"text-align: right;\">\n",
       "      <th></th>\n",
       "      <th>x</th>\n",
       "      <th>y</th>\n",
       "    </tr>\n",
       "  </thead>\n",
       "  <tbody>\n",
       "    <tr>\n",
       "      <td>count</td>\n",
       "      <td>700.000000</td>\n",
       "      <td>700.000000</td>\n",
       "    </tr>\n",
       "    <tr>\n",
       "      <td>mean</td>\n",
       "      <td>49.992857</td>\n",
       "      <td>49.911608</td>\n",
       "    </tr>\n",
       "    <tr>\n",
       "      <td>std</td>\n",
       "      <td>28.939406</td>\n",
       "      <td>29.097996</td>\n",
       "    </tr>\n",
       "    <tr>\n",
       "      <td>min</td>\n",
       "      <td>0.000000</td>\n",
       "      <td>-3.839981</td>\n",
       "    </tr>\n",
       "    <tr>\n",
       "      <td>25%</td>\n",
       "      <td>25.000000</td>\n",
       "      <td>24.985830</td>\n",
       "    </tr>\n",
       "    <tr>\n",
       "      <td>50%</td>\n",
       "      <td>49.000000</td>\n",
       "      <td>48.936330</td>\n",
       "    </tr>\n",
       "    <tr>\n",
       "      <td>75%</td>\n",
       "      <td>75.000000</td>\n",
       "      <td>74.880631</td>\n",
       "    </tr>\n",
       "    <tr>\n",
       "      <td>max</td>\n",
       "      <td>100.000000</td>\n",
       "      <td>108.871618</td>\n",
       "    </tr>\n",
       "  </tbody>\n",
       "</table>\n",
       "</div>"
      ],
      "text/plain": [
       "                x           y\n",
       "count  700.000000  700.000000\n",
       "mean    49.992857   49.911608\n",
       "std     28.939406   29.097996\n",
       "min      0.000000   -3.839981\n",
       "25%     25.000000   24.985830\n",
       "50%     49.000000   48.936330\n",
       "75%     75.000000   74.880631\n",
       "max    100.000000  108.871618"
      ]
     },
     "execution_count": 8,
     "metadata": {},
     "output_type": "execute_result"
    }
   ],
   "source": [
    "df.describe()"
   ]
  },
  {
   "cell_type": "code",
   "execution_count": 9,
   "metadata": {},
   "outputs": [
    {
     "data": {
      "text/plain": [
       "<seaborn.axisgrid.PairGrid at 0x939ccd0>"
      ]
     },
     "execution_count": 9,
     "metadata": {},
     "output_type": "execute_result"
    },
    {
     "data": {
      "image/png": "[encoded data removed]",
      "text/plain": [
       "<Figure size 360x360 with 6 Axes>"
      ]
     },
     "metadata": {
      "needs_background": "light"
     },
     "output_type": "display_data"
    }
   ],
   "source": [
    "sns.pairplot(df)"
   ]
  },
  {
   "cell_type": "code",
   "execution_count": 10,
   "metadata": {},
   "outputs": [
    {
     "data": {
      "text/plain": [
       "<matplotlib.axes._subplots.AxesSubplot at 0x9c7f430>"
      ]
     },
     "execution_count": 10,
     "metadata": {},
     "output_type": "execute_result"
    },
    {
     "data": {
      "image/png": "[encoded data removed]",
      "text/plain": [
       "<Figure size 432x288 with 1 Axes>"
      ]
     },
     "metadata": {
      "needs_background": "light"
     },
     "output_type": "display_data"
    }
   ],
   "source": [
    "sns.jointplot(df['y'])"
   ]
  },
  {
   "cell_type": "code",
   "execution_count": 12,
   "metadata": {},
   "outputs": [
    {
     "data": {
      "text/html": [
       "<div>\n",
       "<style scoped>\n",
       "    .dataframe tbody tr th:only-of-type {\n",
       "        vertical-align: middle;\n",
       "    }\n",
       "\n",
       "    .dataframe tbody tr th {\n",
       "        vertical-align: top;\n",
       "    }\n",
       "\n",
       "    .dataframe thead th {\n",
       "        text-align: right;\n",
       "    }\n",
       "</style>\n",
       "<table border=\"1\" class=\"dataframe\">\n",
       "  <thead>\n",
       "    <tr style=\"text-align: right;\">\n",
       "      <th></th>\n",
       "      <th>x</th>\n",
       "      <th>y</th>\n",
       "    </tr>\n",
       "  </thead>\n",
       "  <tbody>\n",
       "    <tr>\n",
       "      <td>x</td>\n",
       "      <td>1.000000</td>\n",
       "      <td>0.995324</td>\n",
       "    </tr>\n",
       "    <tr>\n",
       "      <td>y</td>\n",
       "      <td>0.995324</td>\n",
       "      <td>1.000000</td>\n",
       "    </tr>\n",
       "  </tbody>\n",
       "</table>\n",
       "</div>"
      ],
      "text/plain": [
       "          x         y\n",
       "x  1.000000  0.995324\n",
       "y  0.995324  1.000000"
      ]
     },
     "execution_count": 12,
     "metadata": {},
     "output_type": "execute_result"
    }
   ],
   "source": [
    "df.corr()"
   ]
  },
  {
   "cell_type": "code",
   "execution_count": 14,
   "metadata": {},
   "outputs": [
    {
     "data": {
      "text/plain": [
       "<matplotlib.axes._subplots.AxesSubplot at 0xbc90670>"
      ]
     },
     "execution_count": 14,
     "metadata": {},
     "output_type": "execute_result"
    },
    {
     "data": {
      "image/png": "[encoded data removed]",
      "text/plain": [
       "<Figure size 432x288 with 2 Axes>"
      ]
     },
     "metadata": {
      "needs_background": "light"
     },
     "output_type": "display_data"
    }
   ],
   "source": [
    "sns.heatmap(df.corr(),annot=True)"
   ]
  },
  {
   "cell_type": "code",
   "execution_count": 15,
   "metadata": {},
   "outputs": [
    {
     "data": {
      "text/plain": [
       "Index(['x', 'y'], dtype='object')"
      ]
     },
     "execution_count": 15,
     "metadata": {},
     "output_type": "execute_result"
    }
   ],
   "source": [
    "df.columns"
   ]
  },
  {
   "cell_type": "code",
   "execution_count": 16,
   "metadata": {},
   "outputs": [],
   "source": [
    "X_train=df[['x']]"
   ]
  },
  {
   "cell_type": "code",
   "execution_count": 17,
   "metadata": {},
   "outputs": [],
   "source": [
    "y_train=df[['y']]"
   ]
  },
  {
   "cell_type": "code",
   "execution_count": 18,
   "metadata": {},
   "outputs": [],
   "source": [
    "df2=pd.read_csv('test.csv')"
   ]
  },
  {
   "cell_type": "code",
   "execution_count": 19,
   "metadata": {},
   "outputs": [],
   "source": [
    "X_test=df[['x']]"
   ]
  },
  {
   "cell_type": "code",
   "execution_count": 20,
   "metadata": {},
   "outputs": [],
   "source": [
    "y_test=df[['y']]"
   ]
  },
  {
   "cell_type": "code",
   "execution_count": 21,
   "metadata": {},
   "outputs": [],
   "source": [
    "from sklearn.linear_model import LinearRegression"
   ]
  },
  {
   "cell_type": "code",
   "execution_count": 22,
   "metadata": {},
   "outputs": [],
   "source": [
    "lm=LinearRegression()"
   ]
  },
  {
   "cell_type": "code",
   "execution_count": 23,
   "metadata": {},
   "outputs": [
    {
     "data": {
      "text/plain": [
       "LinearRegression(copy_X=True, fit_intercept=True, n_jobs=None, normalize=False)"
      ]
     },
     "execution_count": 23,
     "metadata": {},
     "output_type": "execute_result"
    }
   ],
   "source": [
    "lm.fit(X_train,y_train)"
   ]
  },
  {
   "cell_type": "code",
   "execution_count": 24,
   "metadata": {},
   "outputs": [
    {
     "name": "stdout",
     "output_type": "stream",
     "text": [
      "[-0.12015553]\n"
     ]
    }
   ],
   "source": [
    "print(lm.intercept_)"
   ]
  },
  {
   "cell_type": "code",
   "execution_count": 25,
   "metadata": {},
   "outputs": [
    {
     "data": {
      "text/plain": [
       "array([[1.00077825]])"
      ]
     },
     "execution_count": 25,
     "metadata": {},
     "output_type": "execute_result"
    }
   ],
   "source": [
    "lm.coef_"
   ]
  },
  {
   "cell_type": "code",
   "execution_count": 26,
   "metadata": {},
   "outputs": [
    {
     "data": {
      "text/plain": [
       "Index(['x'], dtype='object')"
      ]
     },
     "execution_count": 26,
     "metadata": {},
     "output_type": "execute_result"
    }
   ],
   "source": [
    "X_train.columns"
   ]
  },
  {
   "cell_type": "code",
   "execution_count": 33,
   "metadata": {},
   "outputs": [],
   "source": [
    "cdf=pd.DataFrame(lm.coef_,X_train.columns,columns=['Coeff'])"
   ]
  },
  {
   "cell_type": "code",
   "execution_count": 34,
   "metadata": {},
   "outputs": [
    {
     "data": {
      "text/html": [
       "<div>\n",
       "<style scoped>\n",
       "    .dataframe tbody tr th:only-of-type {\n",
       "        vertical-align: middle;\n",
       "    }\n",
       "\n",
       "    .dataframe tbody tr th {\n",
       "        vertical-align: top;\n",
       "    }\n",
       "\n",
       "    .dataframe thead th {\n",
       "        text-align: right;\n",
       "    }\n",
       "</style>\n",
       "<table border=\"1\" class=\"dataframe\">\n",
       "  <thead>\n",
       "    <tr style=\"text-align: right;\">\n",
       "      <th></th>\n",
       "      <th>Coeff</th>\n",
       "    </tr>\n",
       "  </thead>\n",
       "  <tbody>\n",
       "    <tr>\n",
       "      <td>x</td>\n",
       "      <td>1.000778</td>\n",
       "    </tr>\n",
       "  </tbody>\n",
       "</table>\n",
       "</div>"
      ],
      "text/plain": [
       "      Coeff\n",
       "x  1.000778"
      ]
     },
     "execution_count": 34,
     "metadata": {},
     "output_type": "execute_result"
    }
   ],
   "source": [
    "cdf"
   ]
  },
  {
   "cell_type": "code",
   "execution_count": 35,
   "metadata": {},
   "outputs": [],
   "source": [
    "predictions=lm.predict(X_test)"
   ]
  },
  {
   "cell_type": "code",
   "execution_count": 36,
   "metadata": {},
   "outputs": [
    {
     "data": {
      "text/plain": [
       "array([[23.89852242],\n",
       "       [49.91875687],\n",
       "       [14.89151819],\n",
       "       [37.9094179 ],\n",
       "       [86.94755205],\n",
       "       [35.9078614 ],\n",
       "       [11.88918345],\n",
       "       [80.94288256],\n",
       "       [24.89930067],\n",
       "       [ 4.88373571],\n",
       "       [15.89229644],\n",
       "       [15.89229644],\n",
       "       [23.89852242],\n",
       "       [38.91019614],\n",
       "       [53.92186986],\n",
       "       [59.92653935],\n",
       "       [25.90007892],\n",
       "       [72.93665658],\n",
       "       [28.90241366],\n",
       "       [30.90397016],\n",
       "       [67.93276534],\n",
       "       [86.94755205],\n",
       "       [57.92498286],\n",
       "       [53.92186986],\n",
       "       [83.94521731],\n",
       "       [57.92498286],\n",
       "       [48.91797862],\n",
       "       [19.89540943],\n",
       "       [89.9498868 ],\n",
       "       [47.91720038],\n",
       "       [ 3.88295746],\n",
       "       [24.89930067],\n",
       "       [41.91253089],\n",
       "       [-0.12015553],\n",
       "       [59.92653935],\n",
       "       [92.95222154],\n",
       "       [38.91019614],\n",
       "       [ 6.8852922 ],\n",
       "       [20.89618768],\n",
       "       [67.93276534],\n",
       "       [83.94521731],\n",
       "       [-0.12015553],\n",
       "       [57.92498286],\n",
       "       [18.89463118],\n",
       "       [35.9078614 ],\n",
       "       [18.89463118],\n",
       "       [58.9257611 ],\n",
       "       [50.91953512],\n",
       "       [18.89463118],\n",
       "       [32.90552665],\n",
       "       [84.94599556],\n",
       "       [43.91408738],\n",
       "       [ 4.88373571],\n",
       "       [58.9257611 ],\n",
       "       [13.89073994],\n",
       "       [ 8.8868487 ],\n",
       "       [74.93821307],\n",
       "       [68.93354359],\n",
       "       [ 9.88762695],\n",
       "       [16.89307469],\n",
       "       [57.92498286],\n",
       "       [73.93743483],\n",
       "       [20.89618768],\n",
       "       [50.91953512],\n",
       "       [18.89463118],\n",
       "       [49.91875687],\n",
       "       [23.89852242],\n",
       "       [-0.12015553],\n",
       "       [11.88918345],\n",
       "       [74.93821307],\n",
       "       [20.89618768],\n",
       "       [63.92965235],\n",
       "       [ 4.88373571],\n",
       "       [57.92498286],\n",
       "       [31.90474841],\n",
       "       [40.91175264],\n",
       "       [ 6.8852922 ],\n",
       "       [ 3.88295746],\n",
       "       [ 4.88373571],\n",
       "       [48.91797862],\n",
       "       [89.9498868 ],\n",
       "       [ 2.88217921],\n",
       "       [10.8884052 ],\n",
       "       [31.90474841],\n",
       "       [82.94443906],\n",
       "       [24.89930067],\n",
       "       [82.94443906],\n",
       "       [25.90007892],\n",
       "       [75.93899132],\n",
       "       [94.95377804],\n",
       "       [52.92109162],\n",
       "       [76.93976957],\n",
       "       [41.91253089],\n",
       "       [24.89930067],\n",
       "       [53.92186986],\n",
       "       [54.92264811],\n",
       "       [-0.12015553],\n",
       "       [72.93665658],\n",
       "       [34.90708315],\n",
       "       [85.9467738 ],\n",
       "       [89.9498868 ],\n",
       "       [12.88996169],\n",
       "       [45.91564388],\n",
       "       [45.91564388],\n",
       "       [31.90474841],\n",
       "       [ 7.88607045],\n",
       "       [70.93510008],\n",
       "       [27.90163541],\n",
       "       [23.89852242],\n",
       "       [55.92342636],\n",
       "       [48.91797862],\n",
       "       [78.94132607],\n",
       "       [89.9498868 ],\n",
       "       [88.94910855],\n",
       "       [40.91175264],\n",
       "       [26.90085717],\n",
       "       [57.92498286],\n",
       "       [25.90007892],\n",
       "       [30.90397016],\n",
       "       [69.93432183],\n",
       "       [70.93510008],\n",
       "       [38.91019614],\n",
       "       [ 6.8852922 ],\n",
       "       [47.91720038],\n",
       "       [55.92342636],\n",
       "       [44.91486563],\n",
       "       [40.91175264],\n",
       "       [ 2.88217921],\n",
       "       [36.90863965],\n",
       "       [23.89852242],\n",
       "       [67.93276534],\n",
       "       [46.91642213],\n",
       "       [26.90085717],\n",
       "       [67.93276534],\n",
       "       [73.93743483],\n",
       "       [94.95377804],\n",
       "       [78.94132607],\n",
       "       [20.89618768],\n",
       "       [94.95377804],\n",
       "       [53.92186986],\n",
       "       [55.92342636],\n",
       "       [79.94210431],\n",
       "       [25.90007892],\n",
       "       [24.89930067],\n",
       "       [ 7.88607045],\n",
       "       [94.95377804],\n",
       "       [93.95299979],\n",
       "       [53.92186986],\n",
       "       [ 6.8852922 ],\n",
       "       [98.95689103],\n",
       "       [35.9078614 ],\n",
       "       [47.91720038],\n",
       "       [64.93043059],\n",
       "       [41.91253089],\n",
       "       [92.95222154],\n",
       "       [85.9467738 ],\n",
       "       [25.90007892],\n",
       "       [50.91953512],\n",
       "       [99.95766928],\n",
       "       [93.95299979],\n",
       "       [ 5.88451396],\n",
       "       [23.89852242],\n",
       "       [74.93821307],\n",
       "       [ 6.8852922 ],\n",
       "       [52.92109162],\n",
       "       [72.93665658],\n",
       "       [15.89229644],\n",
       "       [79.94210431],\n",
       "       [76.93976957],\n",
       "       [88.94910855],\n",
       "       [79.94210431],\n",
       "       [54.92264811],\n",
       "       [18.89463118],\n",
       "       [55.92342636],\n",
       "       [46.91642213],\n",
       "       [55.92342636],\n",
       "       [ 1.88140096],\n",
       "       [81.94366081],\n",
       "       [56.92420461],\n",
       "       [43.91408738],\n",
       "       [25.90007892],\n",
       "       [51.92031337],\n",
       "       [40.91175264],\n",
       "       [43.91408738],\n",
       "       [ 2.88217921],\n",
       "       [30.90397016],\n",
       "       [96.95533453],\n",
       "       [20.89618768],\n",
       "       [16.89307469],\n",
       "       [ 6.8852922 ],\n",
       "       [60.9273176 ],\n",
       "       [ 9.88762695],\n",
       "       [51.92031337],\n",
       "       [ 9.88762695],\n",
       "       [64.93043059],\n",
       "       [70.93510008],\n",
       "       [ 3.88295746],\n",
       "       [23.89852242],\n",
       "       [25.90007892],\n",
       "       [50.91953512],\n",
       "       [41.91253089],\n",
       "       [61.92809585],\n",
       "       [73.93743483],\n",
       "       [76.93976957],\n",
       "       [ 2.88217921],\n",
       "       [49.91875687],\n",
       "       [23.89852242],\n",
       "       [36.90863965],\n",
       "       [57.92498286],\n",
       "       [51.92031337],\n",
       "       [26.90085717],\n",
       "       [13.89073994],\n",
       "       [99.95766928],\n",
       "       [34.90708315],\n",
       "       [71.93587833],\n",
       "       [ 4.88373571],\n",
       "       [70.93510008],\n",
       "       [53.92186986],\n",
       "       [83.94521731],\n",
       "       [41.91253089],\n",
       "       [53.92186986],\n",
       "       [73.93743483],\n",
       "       [53.92186986],\n",
       "       [52.92109162],\n",
       "       [77.94054782],\n",
       "       [96.95533453],\n",
       "       [48.91797862],\n",
       "       [70.93510008],\n",
       "       [47.91720038],\n",
       "       [50.91953512],\n",
       "       [88.94910855],\n",
       "       [98.95689103],\n",
       "       [92.95222154],\n",
       "       [48.91797862],\n",
       "       [17.89385293],\n",
       "       [64.93043059],\n",
       "       [82.94443906],\n",
       "       [99.95766928],\n",
       "       [40.91175264],\n",
       "       [51.92031337],\n",
       "       [28.90241366],\n",
       "       [96.95533453],\n",
       "       [ 6.8852922 ],\n",
       "       [50.91953512],\n",
       "       [57.92498286],\n",
       "       [49.91875687],\n",
       "       [66.93198709],\n",
       "       [88.94910855],\n",
       "       [75.93899132],\n",
       "       [34.90708315],\n",
       "       [98.95689103],\n",
       "       [30.90397016],\n",
       "       [51.92031337],\n",
       "       [10.8884052 ],\n",
       "       [65.93120884],\n",
       "       [49.91875687],\n",
       "       [38.91019614],\n",
       "       [59.92653935],\n",
       "       [34.90708315],\n",
       "       [52.92109162],\n",
       "       [13.89073994],\n",
       "       [48.91797862],\n",
       "       [15.89229644],\n",
       "       [75.93899132],\n",
       "       [12.88996169],\n",
       "       [50.91953512],\n",
       "       [69.93432183],\n",
       "       [97.95611278],\n",
       "       [85.9467738 ],\n",
       "       [99.95766928],\n",
       "       [45.91564388],\n",
       "       [50.91953512],\n",
       "       [49.91875687],\n",
       "       [90.95066504],\n",
       "       [47.91720038],\n",
       "       [80.94288256],\n",
       "       [37.9094179 ],\n",
       "       [39.91097439],\n",
       "       [78.94132607],\n",
       "       [95.95455628],\n",
       "       [59.92653935],\n",
       "       [69.93432183],\n",
       "       [43.91408738],\n",
       "       [10.8884052 ],\n",
       "       [ 5.88451396],\n",
       "       [ 4.88373571],\n",
       "       [71.93587833],\n",
       "       [54.92264811],\n",
       "       [94.95377804],\n",
       "       [40.91175264],\n",
       "       [24.89930067],\n",
       "       [ 0.88062272],\n",
       "       [54.92264811],\n",
       "       [ 3.88295746],\n",
       "       [47.91720038],\n",
       "       [54.92264811],\n",
       "       [74.93821307],\n",
       "       [67.93276534],\n",
       "       [99.95766928],\n",
       "       [24.89930067],\n",
       "       [74.93821307],\n",
       "       [33.9063049 ],\n",
       "       [37.9094179 ],\n",
       "       [91.95144329],\n",
       "       [20.89618768],\n",
       "       [87.9483303 ],\n",
       "       [74.93821307],\n",
       "       [75.93899132],\n",
       "       [43.91408738],\n",
       "       [ 9.88762695],\n",
       "       [20.89618768],\n",
       "       [15.89229644],\n",
       "       [31.90474841],\n",
       "       [12.88996169],\n",
       "       [25.90007892],\n",
       "       [69.93432183],\n",
       "       [76.93976957],\n",
       "       [76.93976957],\n",
       "       [87.9483303 ],\n",
       "       [34.90708315],\n",
       "       [23.89852242],\n",
       "       [16.89307469],\n",
       "       [90.95066504],\n",
       "       [31.90474841],\n",
       "       [35.9078614 ],\n",
       "       [88.94910855],\n",
       "       [68.93354359],\n",
       "       [29.90319191],\n",
       "       [ 5.88451396],\n",
       "       [21.89696593],\n",
       "       [66.93198709],\n",
       "       [ 8.8868487 ],\n",
       "       [73.93743483],\n",
       "       [49.91875687],\n",
       "       [84.94599556],\n",
       "       [ 2.88217921],\n",
       "       [-0.12015553],\n",
       "       [58.9257611 ],\n",
       "       [61.92809585],\n",
       "       [16.89307469],\n",
       "       [89.9498868 ],\n",
       "       [22.89774417],\n",
       "       [18.89463118],\n",
       "       [92.95222154],\n",
       "       [13.89073994],\n",
       "       [57.92498286],\n",
       "       [86.94755205],\n",
       "       [36.90863965],\n",
       "       [19.89540943],\n",
       "       [34.90708315],\n",
       "       [62.9288741 ],\n",
       "       [55.92342636],\n",
       "       [61.92809585],\n",
       "       [97.95611278],\n",
       "       [89.9498868 ],\n",
       "       [50.91953512],\n",
       "       [92.95222154],\n",
       "       [21.89696593],\n",
       "       [37.9094179 ],\n",
       "       [12.88996169],\n",
       "       [97.95611278],\n",
       "       [98.95689103],\n",
       "       [30.90397016],\n",
       "       [93.95299979],\n",
       "       [72.93665658],\n",
       "       [36.90863965],\n",
       "       [22.89774417],\n",
       "       [10.8884052 ],\n",
       "       [87.9483303 ],\n",
       "       [46.91642213],\n",
       "       [78.94132607],\n",
       "       [90.95066504],\n",
       "       [70.93510008],\n",
       "       [ 9.88762695],\n",
       "       [38.91019614],\n",
       "       [91.95144329],\n",
       "       [98.95689103],\n",
       "       [27.90163541],\n",
       "       [31.90474841],\n",
       "       [31.90474841],\n",
       "       [74.93821307],\n",
       "       [98.95689103],\n",
       "       [26.90085717],\n",
       "       [63.92965235],\n",
       "       [97.95611278],\n",
       "       [37.9094179 ],\n",
       "       [45.91564388],\n",
       "       [12.88996169],\n",
       "       [95.95455628],\n",
       "       [ 8.8868487 ],\n",
       "       [33.9063049 ],\n",
       "       [48.91797862],\n",
       "       [ 0.88062272],\n",
       "       [49.91875687],\n",
       "       [93.95299979],\n",
       "       [26.90085717],\n",
       "       [19.89540943],\n",
       "       [11.88918345],\n",
       "       [44.91486563],\n",
       "       [90.95066504],\n",
       "       [60.9273176 ],\n",
       "       [ 9.88762695],\n",
       "       [46.91642213],\n",
       "       [32.90552665],\n",
       "       [83.94521731],\n",
       "       [23.89852242],\n",
       "       [47.91720038],\n",
       "       [47.91720038],\n",
       "       [ 8.8868487 ],\n",
       "       [92.95222154],\n",
       "       [98.95689103],\n",
       "       [ 7.88607045],\n",
       "       [19.89540943],\n",
       "       [37.9094179 ],\n",
       "       [77.94054782],\n",
       "       [80.94288256],\n",
       "       [41.91253089],\n",
       "       [94.95377804],\n",
       "       [77.94054782],\n",
       "       [43.91408738],\n",
       "       [67.93276534],\n",
       "       [86.94755205],\n",
       "       [57.92498286],\n",
       "       [51.92031337],\n",
       "       [25.90007892],\n",
       "       [74.93821307],\n",
       "       [47.91720038],\n",
       "       [70.93510008],\n",
       "       [76.93976957],\n",
       "       [33.9063049 ],\n",
       "       [23.89852242],\n",
       "       [69.93432183],\n",
       "       [28.90241366],\n",
       "       [75.93899132],\n",
       "       [97.95611278],\n",
       "       [27.90163541],\n",
       "       [86.94755205],\n",
       "       [ 8.8868487 ],\n",
       "       [86.94755205],\n",
       "       [32.90552665],\n",
       "       [63.92965235],\n",
       "       [16.89307469],\n",
       "       [48.91797862],\n",
       "       [94.95377804],\n",
       "       [74.93821307],\n",
       "       [88.94910855],\n",
       "       [80.94288256],\n",
       "       [24.89930067],\n",
       "       [46.91642213],\n",
       "       [49.91875687],\n",
       "       [ 4.88373571],\n",
       "       [67.93276534],\n",
       "       [83.94521731],\n",
       "       [ 7.88607045],\n",
       "       [40.91175264],\n",
       "       [25.90007892],\n",
       "       [88.94910855],\n",
       "       [77.94054782],\n",
       "       [33.9063049 ],\n",
       "       [91.95144329],\n",
       "       [26.90085717],\n",
       "       [11.88918345],\n",
       "       [ 1.88140096],\n",
       "       [21.89696593],\n",
       "       [-0.12015553],\n",
       "       [25.90007892],\n",
       "       [49.91875687],\n",
       "       [83.94521731],\n",
       "       [69.93432183],\n",
       "       [65.93120884],\n",
       "       [41.91253089],\n",
       "       [18.89463118],\n",
       "       [93.95299979],\n",
       "       [70.93510008],\n",
       "       [18.89463118],\n",
       "       [15.89229644],\n",
       "       [48.91797862],\n",
       "       [28.90241366],\n",
       "       [28.90241366],\n",
       "       [85.9467738 ],\n",
       "       [49.91875687],\n",
       "       [85.9467738 ],\n",
       "       [29.90319191],\n",
       "       [22.89774417],\n",
       "       [19.89540943],\n",
       "       [15.89229644],\n",
       "       [56.92420461],\n",
       "       [ 7.88607045],\n",
       "       [ 7.88607045],\n",
       "       [61.92809585],\n",
       "       [54.92264811],\n",
       "       [29.90319191],\n",
       "       [85.9467738 ],\n",
       "       [61.92809585],\n",
       "       [50.91953512],\n",
       "       [60.9273176 ],\n",
       "       [85.9467738 ],\n",
       "       [60.9273176 ],\n",
       "       [20.89618768],\n",
       "       [80.94288256],\n",
       "       [96.95533453],\n",
       "       [ 4.88373571],\n",
       "       [60.9273176 ],\n",
       "       [46.91642213],\n",
       "       [97.95611278],\n",
       "       [29.90319191],\n",
       "       [62.9288741 ],\n",
       "       [-0.12015553],\n",
       "       [99.95766928],\n",
       "       [17.89385293],\n",
       "       [29.90319191],\n",
       "       [97.95611278],\n",
       "       [15.89229644],\n",
       "       [21.89696593],\n",
       "       [54.92264811],\n",
       "       [42.91330914],\n",
       "       [74.93821307],\n",
       "       [90.95066504],\n",
       "       [45.91564388],\n",
       "       [84.94599556],\n",
       "       [54.92264811],\n",
       "       [35.9078614 ],\n",
       "       [48.91797862],\n",
       "       [93.95299979],\n",
       "       [42.91330914],\n",
       "       [21.89696593],\n",
       "       [36.90863965],\n",
       "       [23.89852242],\n",
       "       [94.95377804],\n",
       "       [60.9273176 ],\n",
       "       [74.93821307],\n",
       "       [67.93276534],\n",
       "       [57.92498286],\n",
       "       [ 4.88373571],\n",
       "       [52.92109162],\n",
       "       [79.94210431],\n",
       "       [82.94443906],\n",
       "       [24.89930067],\n",
       "       [33.9063049 ],\n",
       "       [25.90007892],\n",
       "       [89.9498868 ],\n",
       "       [59.92653935],\n",
       "       [48.91797862],\n",
       "       [18.89463118],\n",
       "       [91.95144329],\n",
       "       [28.90241366],\n",
       "       [ 7.88607045],\n",
       "       [56.92420461],\n",
       "       [28.90241366],\n",
       "       [18.89463118],\n",
       "       [80.94288256],\n",
       "       [49.91875687],\n",
       "       [14.89151819],\n",
       "       [69.93432183],\n",
       "       [38.91019614],\n",
       "       [42.91330914],\n",
       "       [20.89618768],\n",
       "       [97.95611278],\n",
       "       [85.9467738 ],\n",
       "       [15.89229644],\n",
       "       [24.89930067],\n",
       "       [30.90397016],\n",
       "       [92.95222154],\n",
       "       [66.93198709],\n",
       "       [48.91797862],\n",
       "       [24.89930067],\n",
       "       [87.9483303 ],\n",
       "       [53.92186986],\n",
       "       [20.89618768],\n",
       "       [ 7.88607045],\n",
       "       [31.90474841],\n",
       "       [34.90708315],\n",
       "       [66.93198709],\n",
       "       [89.9498868 ],\n",
       "       [58.9257611 ],\n",
       "       [14.89151819],\n",
       "       [66.93198709],\n",
       "       [41.91253089],\n",
       "       [43.91408738],\n",
       "       [76.93976957],\n",
       "       [67.93276534],\n",
       "       [35.9078614 ],\n",
       "       [10.8884052 ],\n",
       "       [ 9.88762695],\n",
       "       [64.93043059],\n",
       "       [97.95611278],\n",
       "       [97.95611278],\n",
       "       [48.91797862],\n",
       "       [30.90397016],\n",
       "       [55.92342636],\n",
       "       [69.93432183],\n",
       "       [90.95066504],\n",
       "       [24.89930067],\n",
       "       [53.92186986],\n",
       "       [38.91019614],\n",
       "       [90.95066504],\n",
       "       [ 2.88217921],\n",
       "       [21.89696593],\n",
       "       [ 1.88140096],\n",
       "       [ 1.88140096],\n",
       "       [64.93043059],\n",
       "       [70.93510008],\n",
       "       [41.91253089],\n",
       "       [75.93899132],\n",
       "       [42.91330914],\n",
       "       [ 7.88607045],\n",
       "       [85.9467738 ],\n",
       "       [86.94755205],\n",
       "       [ 2.88217921],\n",
       "       [57.92498286],\n",
       "       [61.92809585],\n",
       "       [88.94910855],\n",
       "       [94.95377804],\n",
       "       [27.90163541],\n",
       "       [-0.12015553],\n",
       "       [ 0.88062272],\n",
       "       [48.91797862],\n",
       "       [20.89618768],\n",
       "       [45.91564388],\n",
       "       [10.8884052 ],\n",
       "       [88.94910855],\n",
       "       [36.90863965],\n",
       "       [28.90241366],\n",
       "       [43.91408738],\n",
       "       [95.95455628],\n",
       "       [15.89229644],\n",
       "       [73.93743483],\n",
       "       [34.90708315],\n",
       "       [41.91253089],\n",
       "       [15.89229644],\n",
       "       [55.92342636],\n",
       "       [17.89385293],\n",
       "       [99.95766928],\n",
       "       [53.92186986],\n",
       "       [91.95144329],\n",
       "       [62.9288741 ],\n",
       "       [80.94288256],\n",
       "       [72.93665658],\n",
       "       [47.91720038],\n",
       "       [ 0.88062272],\n",
       "       [84.94599556],\n",
       "       [13.89073994],\n",
       "       [24.89930067],\n",
       "       [44.91486563],\n",
       "       [97.95611278],\n",
       "       [96.95533453],\n",
       "       [57.92498286],\n",
       "       [92.95222154],\n",
       "       [87.9483303 ],\n",
       "       [88.94910855],\n",
       "       [46.91642213],\n",
       "       [ 5.88451396],\n",
       "       [33.9063049 ],\n",
       "       [29.90319191],\n",
       "       [15.89229644],\n",
       "       [85.9467738 ],\n",
       "       [39.91097439],\n",
       "       [51.92031337],\n",
       "       [14.89151819],\n",
       "       [ 3.88295746],\n",
       "       [94.95377804],\n",
       "       [98.95689103],\n",
       "       [34.90708315],\n",
       "       [57.92498286],\n",
       "       [ 9.88762695],\n",
       "       [15.89229644],\n",
       "       [52.92109162],\n",
       "       [57.92498286],\n",
       "       [41.91253089],\n",
       "       [23.89852242],\n",
       "       [83.94521731],\n",
       "       [63.92965235],\n",
       "       [11.88918345],\n",
       "       [60.9273176 ],\n",
       "       [74.93821307],\n",
       "       [14.89151819],\n",
       "       [99.95766928],\n",
       "       [42.91330914],\n",
       "       [12.88996169],\n",
       "       [47.91720038],\n",
       "       [44.91486563],\n",
       "       [51.92031337],\n",
       "       [33.9063049 ],\n",
       "       [29.90319191],\n",
       "       [64.93043059],\n",
       "       [99.95766928],\n",
       "       [66.93198709],\n",
       "       [98.95689103],\n",
       "       [44.91486563],\n",
       "       [86.94755205],\n",
       "       [72.93665658],\n",
       "       [ 8.8868487 ],\n",
       "       [80.94288256],\n",
       "       [71.93587833],\n",
       "       [80.94288256],\n",
       "       [57.92498286],\n",
       "       [92.95222154],\n",
       "       [81.94366081],\n",
       "       [65.93120884],\n",
       "       [96.95533453]])"
      ]
     },
     "execution_count": 36,
     "metadata": {},
     "output_type": "execute_result"
    }
   ],
   "source": [
    "predictions"
   ]
  },
  {
   "cell_type": "code",
   "execution_count": 41,
   "metadata": {},
   "outputs": [
    {
     "data": {
      "text/plain": [
       "Text(0, 0.5, 'Predictions')"
      ]
     },
     "execution_count": 41,
     "metadata": {},
     "output_type": "execute_result"
    },
    {
     "data": {
      "image/png": "[encoded data removed]",
      "text/plain": [
       "<Figure size 432x288 with 1 Axes>"
      ]
     },
     "metadata": {
      "needs_background": "light"
     },
     "output_type": "display_data"
    }
   ],
   "source": [
    "plt.scatter(y_test,predictions)\n",
    "plt.xlabel('True values(y_test)')\n",
    "plt.ylabel('Predictions')"
   ]
  },
  {
   "cell_type": "code",
   "execution_count": 42,
   "metadata": {},
   "outputs": [
    {
     "data": {
      "text/plain": [
       "<matplotlib.axes._subplots.AxesSubplot at 0xbc69ed0>"
      ]
     },
     "execution_count": 42,
     "metadata": {},
     "output_type": "execute_result"
    },
    {
     "data": {
      "image/png": "[encoded data removed]",
      "text/plain": [
       "<Figure size 432x288 with 1 Axes>"
      ]
     },
     "metadata": {
      "needs_background": "light"
     },
     "output_type": "display_data"
    }
   ],
   "source": [
    "sns.distplot(y_test-predictions)"
   ]
  },
  {
   "cell_type": "code",
   "execution_count": 43,
   "metadata": {},
   "outputs": [],
   "source": [
    "from sklearn import metrics"
   ]
  },
  {
   "cell_type": "code",
   "execution_count": 45,
   "metadata": {},
   "outputs": [
    {
     "data": {
      "text/plain": [
       "2.2307340670765305"
      ]
     },
     "execution_count": 45,
     "metadata": {},
     "output_type": "execute_result"
    }
   ],
   "source": [
    "a=metrics.mean_absolute_error(y_test,predictions)\n",
    "a"
   ]
  },
  {
   "cell_type": "code",
   "execution_count": 46,
   "metadata": {},
   "outputs": [
    {
     "data": {
      "text/plain": [
       "7.888799869576237"
      ]
     },
     "execution_count": 46,
     "metadata": {},
     "output_type": "execute_result"
    }
   ],
   "source": [
    "b=metrics.mean_squared_error(y_test,predictions)\n",
    "b"
   ]
  },
  {
   "cell_type": "code",
   "execution_count": 48,
   "metadata": {},
   "outputs": [
    {
     "data": {
      "text/plain": [
       "2.808700744040959"
      ]
     },
     "execution_count": 48,
     "metadata": {},
     "output_type": "execute_result"
    }
   ],
   "source": [
    "c=np.sqrt(metrics.mean_squared_error(y_test,predictions))\n",
    "c"
   ]
  },
  {
   "cell_type": "code",
   "execution_count": 50,
   "metadata": {},
   "outputs": [
    {
     "data": {
      "text/plain": [
       "0.9906694842900379"
      ]
     },
     "execution_count": 50,
     "metadata": {},
     "output_type": "execute_result"
    }
   ],
   "source": [
    "d=metrics.explained_variance_score(y_test,predictions)\n",
    "d"
   ]
  },
  {
   "cell_type": "code",
   "execution_count": 52,
   "metadata": {},
   "outputs": [
    {
     "data": {
      "text/plain": [
       "99.0558441160338"
      ]
     },
     "execution_count": 52,
     "metadata": {},
     "output_type": "execute_result"
    }
   ],
   "source": [
    "e=lm.score(y_test,predictions)\n",
    "e*=100\n",
    "e"
   ]
  },
  {
   "cell_type": "code",
   "execution_count": 53,
   "metadata": {},
   "outputs": [
    {
     "data": {
      "text/plain": [
       "array([ 2.23073407,  7.88879987,  2.80870074,  0.99066948, 99.05584412])"
      ]
     },
     "execution_count": 53,
     "metadata": {},
     "output_type": "execute_result"
    }
   ],
   "source": [
    "w=np.array([a,b,c,d,e])\n",
    "w"
   ]
  },
  {
   "cell_type": "code",
   "execution_count": 54,
   "metadata": {},
   "outputs": [
    {
     "data": {
      "text/plain": [
       "array(['Absolute error', 'mean squared error', 'root mean squared error',\n",
       "       'value of R square', 'Accuracy score'], dtype='<U23')"
      ]
     },
     "execution_count": 54,
     "metadata": {},
     "output_type": "execute_result"
    }
   ],
   "source": [
    "z=np.array(['Absolute error','mean squared error','root mean squared error','value of R square','Accuracy score'])\n",
    "z"
   ]
  },
  {
   "cell_type": "code",
   "execution_count": 57,
   "metadata": {},
   "outputs": [
    {
     "data": {
      "text/html": [
       "<div>\n",
       "<style scoped>\n",
       "    .dataframe tbody tr th:only-of-type {\n",
       "        vertical-align: middle;\n",
       "    }\n",
       "\n",
       "    .dataframe tbody tr th {\n",
       "        vertical-align: top;\n",
       "    }\n",
       "\n",
       "    .dataframe thead th {\n",
       "        text-align: right;\n",
       "    }\n",
       "</style>\n",
       "<table border=\"1\" class=\"dataframe\">\n",
       "  <thead>\n",
       "    <tr style=\"text-align: right;\">\n",
       "      <th></th>\n",
       "      <th>Values</th>\n",
       "    </tr>\n",
       "  </thead>\n",
       "  <tbody>\n",
       "    <tr>\n",
       "      <td>Absolute error</td>\n",
       "      <td>2.230734</td>\n",
       "    </tr>\n",
       "    <tr>\n",
       "      <td>mean squared error</td>\n",
       "      <td>7.888800</td>\n",
       "    </tr>\n",
       "    <tr>\n",
       "      <td>root mean squared error</td>\n",
       "      <td>2.808701</td>\n",
       "    </tr>\n",
       "    <tr>\n",
       "      <td>value of R square</td>\n",
       "      <td>0.990669</td>\n",
       "    </tr>\n",
       "    <tr>\n",
       "      <td>Accuracy score</td>\n",
       "      <td>99.055844</td>\n",
       "    </tr>\n",
       "  </tbody>\n",
       "</table>\n",
       "</div>"
      ],
      "text/plain": [
       "                            Values\n",
       "Absolute error            2.230734\n",
       "mean squared error        7.888800\n",
       "root mean squared error   2.808701\n",
       "value of R square         0.990669\n",
       "Accuracy score           99.055844"
      ]
     },
     "execution_count": 57,
     "metadata": {},
     "output_type": "execute_result"
    }
   ],
   "source": [
    "cdf2=pd.DataFrame(w,z,columns=['Values'])\n",
    "cdf2"
   ]
  },
  {
   "cell_type": "code",
   "execution_count": null,
   "metadata": {},
   "outputs": [],
   "source": []
  }
 ],
 "metadata": {
  "kernelspec": {
   "display_name": "Python 3",
   "language": "python",
   "name": "python3"
  },
  "language_info": {
   "codemirror_mode": {
    "name": "ipython",
    "version": 3
   },
   "file_extension": ".py",
   "mimetype": "text/x-python",
   "name": "python",
   "nbconvert_exporter": "python",
   "pygments_lexer": "ipython3",
   "version": "3.7.4"
  }
 },
 "nbformat": 4,
 "nbformat_minor": 2
}
